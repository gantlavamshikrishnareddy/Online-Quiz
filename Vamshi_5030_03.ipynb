{
  "nbformat": 4,
  "nbformat_minor": 0,
  "metadata": {
    "colab": {
      "name": "Vamshi-5030-03.ipynb",
      "provenance": [],
      "collapsed_sections": [],
      "authorship_tag": "ABX9TyNbVHQE5QiWt7+qNJ4N25SP",
      "include_colab_link": true
    },
    "kernelspec": {
      "name": "python3",
      "display_name": "Python 3"
    },
    "language_info": {
      "name": "python"
    }
  },
  "cells": [
    {
      "cell_type": "markdown",
      "metadata": {
        "id": "view-in-github",
        "colab_type": "text"
      },
      "source": [
        "<a href=\"https://colab.research.google.com/github/gantlavamshikrishnareddy/Online-quiz/blob/master/Vamshi_5030_03.ipynb\" target=\"_parent\"><img src=\"https://colab.research.google.com/assets/colab-badge.svg\" alt=\"Open In Colab\"/></a>"
      ]
    },
    {
      "cell_type": "code",
      "metadata": {
        "colab": {
          "base_uri": "https://localhost:8080/"
        },
        "id": "hYddfzxy71tK",
        "outputId": "41c05c3f-2a89-4ad2-fa1a-a7d8e783af0a"
      },
      "source": [
        "print(\"LANGUAGE CODE\\nEnglish (en)\\nTurkish (tr)\\nAzerbaijani (az)\\nIrish (ga)\\nHindi  (hi)\\nChinese   (zh)\\nGreek  (el)\\nJapanese  (ja)\\nThai  (th)\\nSpanish  (es)\\nRussian  (ru)ETC...\")\n",
        "lang=input(print(\"ENTER THE SELECTED LANGUAGE CODE : \", ))\n",
        "word=input(print(\"ENTER WORD FROM THE SELECTED LANGUAGE : \", ))\n",
        "print(\"THE GIVEN WORD IN LOWERCASE IS : \")\n",
        "\n",
        "p=[]\n",
        "if lang=='tr' or lang=='az':\n",
        "    for i in word:\n",
        "        if i=='I':\n",
        "           p.append('\\u0131')\n",
        "        elif i>='A' and i<='Z':\n",
        "            p.append(i.lower())\n",
        "elif lang=='ga' or lang=='ga-IE':\n",
        "    if((word[0]=='n' or word[0]=='t') and (word[1]=='A' or word[1]=='E' or word[1]=='I' or word[1]=='O' or word[1]=='U' or word[1]=='\\u00C1' or word[1]=='\\u00C9' or word[1]=='\\u00CD' or word[1]=='\\u00D3' or word[1]=='\\u00DA')):\n",
        "        p.append(word[0])\n",
        "        p.append('-')\n",
        "        if(word[1]=='\\u00C1' ):\n",
        "            p.append('\\u00E1')\n",
        "        elif(word[1]=='\\u00C9'):\n",
        "            p.append('\\u00E9')\n",
        "        elif(word[1]=='\\u00CD'):\n",
        "            p.append('\\u00ED')\n",
        "        elif(word[1]=='\\u00D3'):\n",
        "            p.append('\\u00F3')\n",
        "        elif(word[1]=='\\u00DA'):\n",
        "            p.append('\\u00FA')\n",
        "        elif(word[1]>='A' or word[1]=='E' or word[1]=='I' or word[1]=='O' or word[1]=='U' ):\n",
        "            p.append(word[1].lower())\n",
        "        c=word[2:]\n",
        "        for i in c:\n",
        "            if i>='A' and i<='Z':\n",
        "                p.append(i.lower())\n",
        "            elif(i=='\\u00C1'):\n",
        "                p.append('\\u00E1')\n",
        "            elif(i=='\\u00C9'):\n",
        "                p.append('\\u00E9')\n",
        "            elif(i=='\\u00CD'):\n",
        "                p.append('\\u00ED')\n",
        "            elif(i=='\\u00D3'):\n",
        "                p.append('\\u00F3')\n",
        "            elif(i=='\\u00DA'):\n",
        "                p.append('\\u00FA')\n",
        "            else:\n",
        "                p.append(i)\n",
        "    else:\n",
        "        for i in word:\n",
        "            if i>='A' and i<='Z':\n",
        "                p.append(i.lower())\n",
        "            elif(i=='\\u00C1'):\n",
        "                p.append('\\u00E1')\n",
        "            elif(i=='\\u00C9'):\n",
        "                p.append('\\u00E9')\n",
        "            elif(i=='\\u00CD'):\n",
        "                p.append('\\u00ED')\n",
        "            elif(i=='\\u00D3'):\n",
        "                p.append('\\u00F3')\n",
        "            elif(i=='\\u00DA'):\n",
        "                p.append('\\u00FA')\n",
        "            elif(i=='\\u00D5'):\n",
        "                p.append('\\u00F5')\n",
        "            else:\n",
        "                p.append(i)\n",
        "elif lang=='el':\n",
        "    if word[-1]=='\\u03A3':\n",
        "        c=word[:-1]\n",
        "        x='\\u03C2'\n",
        "    else:\n",
        "        c=word\n",
        "        x=''\n",
        "    for i in c:\n",
        "        if(i=='\\u03A0'):\n",
        "            p.append('\\u03C0')\n",
        "        elif(i=='\\u03A3'):\n",
        "            p.append('\\u03C3')\n",
        "        elif(i=='\\u0397'):\n",
        "            p.append('\\u03B7')\n",
        "        elif(i=='\\u039B'):\n",
        "            p.append('\\u03BB')\n",
        "        elif(i=='\\u038C'):\n",
        "            p.append('\\u03CC')\n",
        "    p.append(x)\n",
        "elif lang=='en' or lang=='en-US' or lang=='en-IE' or lang=='en-Latn':\n",
        "    for i in word:\n",
        "        if i>='A' or i<='Z':\n",
        "            p.append(i.lower())\n",
        "        else:\n",
        "            p.append(i)\n",
        "else:\n",
        "    for i in word:\n",
        "        p.append(i)\n",
        "for i in p:\n",
        "    print(i,end='')"
      ],
      "execution_count": 13,
      "outputs": [
        {
          "output_type": "stream",
          "name": "stdout",
          "text": [
            "LANGUAGE CODE\n",
            "English (en)\n",
            "Turkish (tr)\n",
            "Azerbaijani (az)\n",
            "Irish (ga)\n",
            "Hindi  (hi)\n",
            "Chinese   (zh)\n",
            "Greek  (el)\n",
            "Japanese  (ja)\n",
            "Thai  (th)\n",
            "Spanish  (es)\n",
            "Russian  (ru)ETC...\n",
            "ENTER THE SELECTED LANGUAGE CODE : \n",
            "en\n",
            "ENTER WORD FROM THE SELECTED LANGUAGE : \n",
            "OoubUBuib\n",
            "THE GIVEN WORD IN LOWERCASE IS : \n",
            "ooububuib"
          ]
        }
      ]
    },
    {
      "cell_type": "markdown",
      "metadata": {
        "id": "8p3jfhGk5eal"
      },
      "source": [
        "**bold text**"
      ]
    },
    {
      "cell_type": "code",
      "metadata": {
        "id": "wxxc-kjDtiiR"
      },
      "source": [
        ""
      ],
      "execution_count": null,
      "outputs": []
    }
  ]
}